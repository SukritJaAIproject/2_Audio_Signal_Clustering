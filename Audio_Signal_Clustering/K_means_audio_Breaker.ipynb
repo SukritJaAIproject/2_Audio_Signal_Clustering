{
 "cells": [
  {
   "cell_type": "code",
   "execution_count": 149,
   "metadata": {},
   "outputs": [],
   "source": [
    "import tensorflow as tf\n",
    "import numpy as np\n",
    "import pandas as pd\n",
    "from pyAudioAnalysis import audioBasicIO\n",
    "from pyAudioAnalysis import audioFeatureExtraction\n",
    "import matplotlib.pyplot as plt\n",
    "import os"
   ]
  },
  {
   "cell_type": "markdown",
   "metadata": {},
   "source": [
    "## Utility function to extract features from wav files\n",
    "\n",
    "* Pre-process data and transform double channel to single channel\n",
    "* Extract the chromagraph  from the audio file\n",
    "* Find note frequency"
   ]
  },
  {
   "cell_type": "code",
   "execution_count": 150,
   "metadata": {},
   "outputs": [],
   "source": [
    "def preProcess( fileName ):\n",
    "    \n",
    "    # Extracting wav file data\n",
    "    [Fs, x] = audioBasicIO.readAudioFile(fileName);\n",
    "\n",
    "    # If double channel data then take mean\n",
    "    if( len( x.shape ) > 1 and  x.shape[1] == 2 ):\n",
    "        x = np.mean( x, axis = 1, keepdims = True )\n",
    "    else:\n",
    "        x = x.reshape( x.shape[0], 1 )\n",
    "    \n",
    "    # Extract the raw chromagram data, expected dimention is [ m,  ] not [ m, 1 ]\n",
    "    F, f_names = audioFeatureExtraction.stFeatureExtraction(\n",
    "        x[ :, 0 ], \n",
    "        Fs, 0.050*Fs, \n",
    "        0.025*Fs\n",
    "    )\n",
    "    \n",
    "    return (f_names, F)"
   ]
  },
  {
   "cell_type": "code",
   "execution_count": 151,
   "metadata": {},
   "outputs": [],
   "source": [
    "def getChromagram( audioData ):\n",
    "    \n",
    "    # chronograph_1\n",
    "    temp_data =  audioData[ 21 ].reshape( 1, audioData[ 21 ].shape[0] )\n",
    "    chronograph = temp_data\n",
    "    \n",
    "    # looping through the next 11 stacking them vertically\n",
    "    for i in range( 22, 33 ):\n",
    "        temp_data =  audioData[ i ].reshape( 1, audioData[ i ].shape[0] )\n",
    "        chronograph = np.vstack( [ chronograph,  temp_data ] )\n",
    "    \n",
    "    return chronograph"
   ]
  },
  {
   "cell_type": "code",
   "execution_count": 152,
   "metadata": {},
   "outputs": [],
   "source": [
    "def getNoteFrequency( chromagram ):\n",
    "    \n",
    "    # Total number of time frames in the current sample\n",
    "    numberOfWindows = chromagram.shape[1]\n",
    "    \n",
    "    # Taking the note with the highest amplitude\n",
    "    freqVal = chromagram.argmax( axis = 0 )\n",
    "    \n",
    "    # Converting the freqVal vs time to freq count\n",
    "    histogram, bin = np.histogram( freqVal, bins = 12 ) \n",
    "    \n",
    "    # Normalizing the distribution by the number of time frames\n",
    "    normalized_hist = histogram.reshape( 1, 12 ).astype( float ) / numberOfWindows\n",
    "    \n",
    "    return normalized_hist"
   ]
  },
  {
   "cell_type": "markdown",
   "metadata": {},
   "source": [
    "## Utility function to plot a heat map and frequency of each note"
   ]
  },
  {
   "cell_type": "code",
   "execution_count": 153,
   "metadata": {},
   "outputs": [],
   "source": [
    "def plotHeatmap( chromagraph, smallSample = True ):\n",
    "    \n",
    "    notesLabels = [ \"G#\", \"G\", \"F#\", \"F\", \"E\", \"D#\", \"D\", \"C#\", \"C\", \"B\", \"A#\", \"A\" ]\n",
    "    \n",
    "    fig, axis = plt.subplots()\n",
    "    \n",
    "    if smallSample:\n",
    "        im = axis.imshow( chromagram[ :, 0 : 25 ], cmap = \"YlGn\" )\n",
    "    else:\n",
    "        im = axis.imshow( chromagram )\n",
    "        \n",
    "    cbar = axis.figure.colorbar(im, ax = axis,  cmap = \"YlGn\")\n",
    "    cbar.ax.set_ylabel(\"Amplitude\", rotation=-90, va=\"bottom\")\n",
    "    \n",
    "    axis.set_yticks( np.arange( len(notesLabels) ) )\n",
    "    axis.set_yticklabels(notesLabels)\n",
    "    \n",
    "    axis.set_title( \"chromagram\" )\n",
    "    \n",
    "    fig.tight_layout()\n",
    "    _ = plt.show()"
   ]
  },
  {
   "cell_type": "code",
   "execution_count": 154,
   "metadata": {},
   "outputs": [],
   "source": [
    "def noteFrequencyPlot( noteFrequency, smallSample = True ):\n",
    "    \n",
    "    fig, axis = plt.subplots(1, 1, sharey=True )\n",
    "    \n",
    "    axis.plot( np.arange( 1, 13 ), noteFrequency[0, :] )\n",
    "    \n",
    "    _ = plt.show()"
   ]
  },
  {
   "cell_type": "markdown",
   "metadata": {},
   "source": [
    "## Running sample data on defined functions"
   ]
  },
  {
   "cell_type": "code",
   "execution_count": 206,
   "metadata": {},
   "outputs": [],
   "source": [
    "feature_name, features = preProcess( \"./sample_data_audio/c1_2.wav\" )"
   ]
  },
  {
   "cell_type": "code",
   "execution_count": 207,
   "metadata": {},
   "outputs": [
    {
     "data": {
      "image/png": "[encoded data removed]",
      "text/plain": [
       "<Figure size 432x288 with 2 Axes>"
      ]
     },
     "metadata": {},
     "output_type": "display_data"
    }
   ],
   "source": [
    "chromagram = getChromagram( features )\n",
    "plotHeatmap( chromagram )"
   ]
  },
  {
   "cell_type": "code",
   "execution_count": 208,
   "metadata": {},
   "outputs": [
    {
     "data": {
      "image/png": "[encoded data removed]",
      "text/plain": [
       "<Figure size 432x288 with 1 Axes>"
      ]
     },
     "metadata": {},
     "output_type": "display_data"
    }
   ],
   "source": [
    "noteFrequency = getNoteFrequency( chromagram )\n",
    "noteFrequencyPlot( noteFrequency )"
   ]
  },
  {
   "cell_type": "markdown",
   "metadata": {},
   "source": [
    "## Dataset  generator\n",
    "This function iterates over all the available files and converts them into note frequency arrays which is out feature set for each audio file."
   ]
  },
  {
   "cell_type": "code",
   "execution_count": 158,
   "metadata": {},
   "outputs": [],
   "source": [
    "fileList = []\n",
    "\n",
    "def getDataset( filePath ):\n",
    "    X = pd.DataFrame(  )\n",
    "    \n",
    "    columns=[ \"G#\", \"G\", \"F#\", \"F\", \"E\", \"D#\", \"D\", \"C#\", \"C\", \"B\", \"A#\", \"A\" ]\n",
    "    \n",
    "    for root, dirs, filenames in os.walk( filePath ):\n",
    "        for file in filenames:\n",
    "            fileList.append( file )\n",
    "            feature_name, features = preProcess(filePath + file )\n",
    "            chromagram = getChromagram( features )\n",
    "            noteFrequency = getNoteFrequency( chromagram )\n",
    "            x_new =  pd.Series(noteFrequency[ 0, : ])\n",
    "            X = pd.concat( [ X, x_new ], axis = 1 )\n",
    "        \n",
    "    data = X.T.copy()\n",
    "    data.columns = columns\n",
    "    data.index = [ i for i in range( 0, data.shape[ 0 ] ) ]\n",
    "            \n",
    "    return data"
   ]
  },
  {
   "cell_type": "code",
   "execution_count": 159,
   "metadata": {},
   "outputs": [],
   "source": [
    "data = getDataset( \"./sample_data_audio/\" )"
   ]
  },
  {
   "cell_type": "markdown",
   "metadata": {},
   "source": [
    "## A peek into the dataset\n",
    "\n",
    "Each row represents a file and each column represents the frequency distribution of notes\n",
    "\n",
    "In my case, I have 19 files in total."
   ]
  },
  {
   "cell_type": "code",
   "execution_count": 160,
   "metadata": {},
   "outputs": [
    {
     "data": {
      "text/html": [
       "<div>\n",
       "<style scoped>\n",
       "    .dataframe tbody tr th:only-of-type {\n",
       "        vertical-align: middle;\n",
       "    }\n",
       "\n",
       "    .dataframe tbody tr th {\n",
       "        vertical-align: top;\n",
       "    }\n",
       "\n",
       "    .dataframe thead th {\n",
       "        text-align: right;\n",
       "    }\n",
       "</style>\n",
       "<table border=\"1\" class=\"dataframe\">\n",
       "  <thead>\n",
       "    <tr style=\"text-align: right;\">\n",
       "      <th></th>\n",
       "      <th>G#</th>\n",
       "      <th>G</th>\n",
       "      <th>F#</th>\n",
       "      <th>F</th>\n",
       "      <th>E</th>\n",
       "      <th>D#</th>\n",
       "      <th>D</th>\n",
       "      <th>C#</th>\n",
       "      <th>C</th>\n",
       "      <th>B</th>\n",
       "      <th>A#</th>\n",
       "      <th>A</th>\n",
       "    </tr>\n",
       "  </thead>\n",
       "  <tbody>\n",
       "    <tr>\n",
       "      <th>0</th>\n",
       "      <td>0.000000</td>\n",
       "      <td>0.0</td>\n",
       "      <td>0.0</td>\n",
       "      <td>0.000000</td>\n",
       "      <td>0.0</td>\n",
       "      <td>0.0</td>\n",
       "      <td>1.000000</td>\n",
       "      <td>0.0</td>\n",
       "      <td>0.0</td>\n",
       "      <td>0.0</td>\n",
       "      <td>0.0</td>\n",
       "      <td>0.000000</td>\n",
       "    </tr>\n",
       "    <tr>\n",
       "      <th>1</th>\n",
       "      <td>0.991713</td>\n",
       "      <td>0.0</td>\n",
       "      <td>0.0</td>\n",
       "      <td>0.000000</td>\n",
       "      <td>0.0</td>\n",
       "      <td>0.0</td>\n",
       "      <td>0.000000</td>\n",
       "      <td>0.0</td>\n",
       "      <td>0.0</td>\n",
       "      <td>0.0</td>\n",
       "      <td>0.0</td>\n",
       "      <td>0.008287</td>\n",
       "    </tr>\n",
       "    <tr>\n",
       "      <th>2</th>\n",
       "      <td>0.021834</td>\n",
       "      <td>0.0</td>\n",
       "      <td>0.0</td>\n",
       "      <td>0.000000</td>\n",
       "      <td>0.0</td>\n",
       "      <td>0.0</td>\n",
       "      <td>0.000000</td>\n",
       "      <td>0.0</td>\n",
       "      <td>0.0</td>\n",
       "      <td>0.0</td>\n",
       "      <td>0.0</td>\n",
       "      <td>0.978166</td>\n",
       "    </tr>\n",
       "    <tr>\n",
       "      <th>3</th>\n",
       "      <td>0.015385</td>\n",
       "      <td>0.0</td>\n",
       "      <td>0.0</td>\n",
       "      <td>0.000000</td>\n",
       "      <td>0.0</td>\n",
       "      <td>0.0</td>\n",
       "      <td>0.000000</td>\n",
       "      <td>0.0</td>\n",
       "      <td>0.0</td>\n",
       "      <td>0.0</td>\n",
       "      <td>0.0</td>\n",
       "      <td>0.984615</td>\n",
       "    </tr>\n",
       "    <tr>\n",
       "      <th>4</th>\n",
       "      <td>0.090909</td>\n",
       "      <td>0.0</td>\n",
       "      <td>0.0</td>\n",
       "      <td>0.090909</td>\n",
       "      <td>0.0</td>\n",
       "      <td>0.0</td>\n",
       "      <td>0.545455</td>\n",
       "      <td>0.0</td>\n",
       "      <td>0.0</td>\n",
       "      <td>0.0</td>\n",
       "      <td>0.0</td>\n",
       "      <td>0.272727</td>\n",
       "    </tr>\n",
       "    <tr>\n",
       "      <th>5</th>\n",
       "      <td>0.027027</td>\n",
       "      <td>0.0</td>\n",
       "      <td>0.0</td>\n",
       "      <td>0.000000</td>\n",
       "      <td>0.0</td>\n",
       "      <td>0.0</td>\n",
       "      <td>0.000000</td>\n",
       "      <td>0.0</td>\n",
       "      <td>0.0</td>\n",
       "      <td>0.0</td>\n",
       "      <td>0.0</td>\n",
       "      <td>0.972973</td>\n",
       "    </tr>\n",
       "    <tr>\n",
       "      <th>6</th>\n",
       "      <td>0.000000</td>\n",
       "      <td>0.0</td>\n",
       "      <td>0.0</td>\n",
       "      <td>0.000000</td>\n",
       "      <td>0.0</td>\n",
       "      <td>0.0</td>\n",
       "      <td>1.000000</td>\n",
       "      <td>0.0</td>\n",
       "      <td>0.0</td>\n",
       "      <td>0.0</td>\n",
       "      <td>0.0</td>\n",
       "      <td>0.000000</td>\n",
       "    </tr>\n",
       "    <tr>\n",
       "      <th>7</th>\n",
       "      <td>0.097561</td>\n",
       "      <td>0.0</td>\n",
       "      <td>0.0</td>\n",
       "      <td>0.000000</td>\n",
       "      <td>0.0</td>\n",
       "      <td>0.0</td>\n",
       "      <td>0.000000</td>\n",
       "      <td>0.0</td>\n",
       "      <td>0.0</td>\n",
       "      <td>0.0</td>\n",
       "      <td>0.0</td>\n",
       "      <td>0.902439</td>\n",
       "    </tr>\n",
       "    <tr>\n",
       "      <th>8</th>\n",
       "      <td>0.000000</td>\n",
       "      <td>0.0</td>\n",
       "      <td>0.0</td>\n",
       "      <td>0.000000</td>\n",
       "      <td>0.0</td>\n",
       "      <td>0.0</td>\n",
       "      <td>1.000000</td>\n",
       "      <td>0.0</td>\n",
       "      <td>0.0</td>\n",
       "      <td>0.0</td>\n",
       "      <td>0.0</td>\n",
       "      <td>0.000000</td>\n",
       "    </tr>\n",
       "    <tr>\n",
       "      <th>9</th>\n",
       "      <td>0.000000</td>\n",
       "      <td>0.0</td>\n",
       "      <td>0.0</td>\n",
       "      <td>0.000000</td>\n",
       "      <td>0.0</td>\n",
       "      <td>0.0</td>\n",
       "      <td>1.000000</td>\n",
       "      <td>0.0</td>\n",
       "      <td>0.0</td>\n",
       "      <td>0.0</td>\n",
       "      <td>0.0</td>\n",
       "      <td>0.000000</td>\n",
       "    </tr>\n",
       "  </tbody>\n",
       "</table>\n",
       "</div>"
      ],
      "text/plain": [
       "         G#    G   F#         F    E   D#         D   C#    C    B   A#  \\\n",
       "0  0.000000  0.0  0.0  0.000000  0.0  0.0  1.000000  0.0  0.0  0.0  0.0   \n",
       "1  0.991713  0.0  0.0  0.000000  0.0  0.0  0.000000  0.0  0.0  0.0  0.0   \n",
       "2  0.021834  0.0  0.0  0.000000  0.0  0.0  0.000000  0.0  0.0  0.0  0.0   \n",
       "3  0.015385  0.0  0.0  0.000000  0.0  0.0  0.000000  0.0  0.0  0.0  0.0   \n",
       "4  0.090909  0.0  0.0  0.090909  0.0  0.0  0.545455  0.0  0.0  0.0  0.0   \n",
       "5  0.027027  0.0  0.0  0.000000  0.0  0.0  0.000000  0.0  0.0  0.0  0.0   \n",
       "6  0.000000  0.0  0.0  0.000000  0.0  0.0  1.000000  0.0  0.0  0.0  0.0   \n",
       "7  0.097561  0.0  0.0  0.000000  0.0  0.0  0.000000  0.0  0.0  0.0  0.0   \n",
       "8  0.000000  0.0  0.0  0.000000  0.0  0.0  1.000000  0.0  0.0  0.0  0.0   \n",
       "9  0.000000  0.0  0.0  0.000000  0.0  0.0  1.000000  0.0  0.0  0.0  0.0   \n",
       "\n",
       "          A  \n",
       "0  0.000000  \n",
       "1  0.008287  \n",
       "2  0.978166  \n",
       "3  0.984615  \n",
       "4  0.272727  \n",
       "5  0.972973  \n",
       "6  0.000000  \n",
       "7  0.902439  \n",
       "8  0.000000  \n",
       "9  0.000000  "
      ]
     },
     "execution_count": 160,
     "metadata": {},
     "output_type": "execute_result"
    }
   ],
   "source": [
    "data"
   ]
  },
  {
   "cell_type": "markdown",
   "metadata": {},
   "source": [
    "### Hyper-parameters"
   ]
  },
  {
   "cell_type": "code",
   "execution_count": 209,
   "metadata": {},
   "outputs": [],
   "source": [
    "# Number of cluster we wish to divide the data into( user tunable )\n",
    "k = 3\n",
    "\n",
    "# Max number of allowed iterations for the algorithm( user tunable )\n",
    "epochs = 2000"
   ]
  },
  {
   "cell_type": "markdown",
   "metadata": {},
   "source": [
    "### K-means utility functions"
   ]
  },
  {
   "cell_type": "code",
   "execution_count": 210,
   "metadata": {},
   "outputs": [],
   "source": [
    "def initilizeCentroids( data, k ):\n",
    "    '''\n",
    "    Initilize cluster centroids( assuming random k data points to be centroid return them )\n",
    "    '''\n",
    "    centroids = data[ 0 : k ]\n",
    "    return centroids"
   ]
  },
  {
   "cell_type": "code",
   "execution_count": 211,
   "metadata": {},
   "outputs": [],
   "source": [
    "X = tf.placeholder( dtype = tf.float32 )\n",
    "C = tf.placeholder( dtype = tf.float32 )\n",
    "C_labels = tf.placeholder( dtype = tf.int32 )\n",
    "\n",
    "# utility to assign centroids to examples\n",
    "expanded_vectors = tf.expand_dims( X, 0 )\n",
    "expanded_centroids = tf.expand_dims( C, 1 )\n",
    "distance = tf.reduce_sum( tf.square( tf.subtract( expanded_vectors, expanded_centroids ) ), axis = 2 )\n",
    "getCentroidsOp = tf.argmin( distance, 0 )\n",
    "\n",
    "\n",
    "# utility to recalculate centroids\n",
    "sums = tf.unsorted_segment_sum( X, C_labels, k )\n",
    "counts = tf.unsorted_segment_sum( tf.ones_like( X ), C_labels, k  )\n",
    "reCalculateCentroidsOp = tf.divide( sums,  counts )"
   ]
  },
  {
   "cell_type": "markdown",
   "metadata": {},
   "source": [
    "### Driver function"
   ]
  },
  {
   "cell_type": "code",
   "execution_count": 212,
   "metadata": {},
   "outputs": [
    {
     "name": "stdout",
     "output_type": "stream",
     "text": [
      "[0 1 2 2 0 2 0 2 0 0]\n",
      "[[0.01818182 0.         0.         0.01818182 0.         0.\n",
      "  0.9090909  0.         0.         0.         0.         0.05454545]\n",
      " [0.9917127  0.         0.         0.         0.         0.\n",
      "  0.         0.         0.         0.         0.         0.00828729]\n",
      " [0.04045167 0.         0.         0.         0.         0.\n",
      "  0.         0.         0.         0.         0.         0.95954835]]\n"
     ]
    }
   ],
   "source": [
    "centroids = []\n",
    "data_labels = []\n",
    "\n",
    "with tf.Session() as sess:\n",
    "    \n",
    "    # Initilize all tensor flow variables\n",
    "    sess.run( tf.global_variables_initializer() )\n",
    "    \n",
    "    # Get initial list of k centroids\n",
    "    centroids = initilizeCentroids( data, k )\n",
    "    \n",
    "    for epoch in range( epochs ):\n",
    "        data_labels =  sess.run( getCentroidsOp, feed_dict = { X: data, C: centroids } )\n",
    "        centroids = sess.run( reCalculateCentroidsOp, feed_dict = { X: data, C_labels: data_labels } )\n",
    "    \n",
    "print( data_labels )\n",
    "print( centroids )"
   ]
  },
  {
   "cell_type": "code",
   "execution_count": 213,
   "metadata": {},
   "outputs": [
    {
     "data": {
      "text/html": [
       "<div>\n",
       "<style scoped>\n",
       "    .dataframe tbody tr th:only-of-type {\n",
       "        vertical-align: middle;\n",
       "    }\n",
       "\n",
       "    .dataframe tbody tr th {\n",
       "        vertical-align: top;\n",
       "    }\n",
       "\n",
       "    .dataframe thead th {\n",
       "        text-align: right;\n",
       "    }\n",
       "</style>\n",
       "<table border=\"1\" class=\"dataframe\">\n",
       "  <thead>\n",
       "    <tr style=\"text-align: right;\">\n",
       "      <th></th>\n",
       "      <th>File Names</th>\n",
       "      <th>Labels</th>\n",
       "    </tr>\n",
       "  </thead>\n",
       "  <tbody>\n",
       "    <tr>\n",
       "      <th>0</th>\n",
       "      <td>c3_1.wav</td>\n",
       "      <td>0</td>\n",
       "    </tr>\n",
       "    <tr>\n",
       "      <th>1</th>\n",
       "      <td>c4_1.wav</td>\n",
       "      <td>1</td>\n",
       "    </tr>\n",
       "    <tr>\n",
       "      <th>2</th>\n",
       "      <td>c1_2.wav</td>\n",
       "      <td>2</td>\n",
       "    </tr>\n",
       "    <tr>\n",
       "      <th>3</th>\n",
       "      <td>c2_2.wav</td>\n",
       "      <td>2</td>\n",
       "    </tr>\n",
       "    <tr>\n",
       "      <th>4</th>\n",
       "      <td>c3_2.wav</td>\n",
       "      <td>0</td>\n",
       "    </tr>\n",
       "    <tr>\n",
       "      <th>5</th>\n",
       "      <td>c2_3.wav</td>\n",
       "      <td>2</td>\n",
       "    </tr>\n",
       "    <tr>\n",
       "      <th>6</th>\n",
       "      <td>c2_4.wav</td>\n",
       "      <td>0</td>\n",
       "    </tr>\n",
       "    <tr>\n",
       "      <th>7</th>\n",
       "      <td>c1_1.wav</td>\n",
       "      <td>2</td>\n",
       "    </tr>\n",
       "    <tr>\n",
       "      <th>8</th>\n",
       "      <td>c2_1.wav</td>\n",
       "      <td>0</td>\n",
       "    </tr>\n",
       "    <tr>\n",
       "      <th>9</th>\n",
       "      <td>c4_2.wav</td>\n",
       "      <td>0</td>\n",
       "    </tr>\n",
       "  </tbody>\n",
       "</table>\n",
       "</div>"
      ],
      "text/plain": [
       "  File Names  Labels\n",
       "0   c3_1.wav       0\n",
       "1   c4_1.wav       1\n",
       "2   c1_2.wav       2\n",
       "3   c2_2.wav       2\n",
       "4   c3_2.wav       0\n",
       "5   c2_3.wav       2\n",
       "6   c2_4.wav       0\n",
       "7   c1_1.wav       2\n",
       "8   c2_1.wav       0\n",
       "9   c4_2.wav       0"
      ]
     },
     "execution_count": 213,
     "metadata": {},
     "output_type": "execute_result"
    }
   ],
   "source": [
    "final_labels = pd.DataFrame( { \"Labels\": data_labels, \"File Names\": fileList } )\n",
    "final_labels"
   ]
  },
  {
   "cell_type": "code",
   "execution_count": null,
   "metadata": {},
   "outputs": [],
   "source": []
  },
  {
   "cell_type": "code",
   "execution_count": null,
   "metadata": {},
   "outputs": [],
   "source": []
  }
 ],
 "metadata": {
  "kernelspec": {
   "display_name": "Python 3",
   "language": "python",
   "name": "python3"
  },
  "language_info": {
   "codemirror_mode": {
    "name": "ipython",
    "version": 3
   },
   "file_extension": ".py",
   "mimetype": "text/x-python",
   "name": "python",
   "nbconvert_exporter": "python",
   "pygments_lexer": "ipython3",
   "version": "3.7.7"
  }
 },
 "nbformat": 4,
 "nbformat_minor": 2
}
